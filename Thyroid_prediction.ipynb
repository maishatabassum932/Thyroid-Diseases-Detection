{
 "cells": [
  {
   "cell_type": "markdown",
   "id": "52fd6cfc",
   "metadata": {},
   "source": [
    " ## Importing Necessary Libraries for Data Exploration"
   ]
  },
  {
   "cell_type": "code",
   "execution_count": 47,
   "id": "8667a1e0",
   "metadata": {},
   "outputs": [],
   "source": [
    "import pandas as pd\n",
    "import numpy as np\n",
    "from sklearn.model_selection import train_test_split\n",
    "from sklearn.preprocessing import LabelEncoder, StandardScaler\n",
    "from sklearn.ensemble import RandomForestClassifier\n",
    "from xgboost import XGBClassifier\n",
    "from sklearn.metrics import classification_report, confusion_matrix\n",
    "import seaborn as sns\n",
    "import matplotlib.pyplot as plt"
   ]
  },
  {
   "cell_type": "markdown",
   "id": "ab55c69d",
   "metadata": {},
   "source": [
    "## About the Dataset\n",
    " This dataset focuses on predicting the recurrence of well-differentiated thyroid cancer using 13 clinicopathologic features. The data spans over 15 years, with each patient followed for at least 10 years. It originates from the UCI Machine Learning Repository and is hosted on Kaggle.\n",
    "\n",
    "Key Features Include:\n",
    "\n",
    "Demographics: Age, Gender\n",
    "\n",
    "Medical History: Smoking status, History of smoking, History of radiotherapy\n",
    "\n",
    "Clinical Info: Thyroid function, Physical exam results, Presence of adenopathy\n",
    "\n",
    "Cancer Details: Pathology type, Focality, Risk category, Tumor (T), Node (N), Metastasis (M), Cancer Stage\n",
    "\n",
    "Outcomes: Response to treatment, Whether the cancer recurred\n",
    "\n",
    "This dataset provides a rich foundation for building models to assess cancer recurrence risk based on both clinical and pathological data."
   ]
  },
  {
   "cell_type": "markdown",
   "id": "759ddeb4",
   "metadata": {},
   "source": [
    "## Load the Dataset"
   ]
  },
  {
   "cell_type": "code",
   "execution_count": 48,
   "id": "ac465e1b",
   "metadata": {},
   "outputs": [],
   "source": [
    "th = pd.read_csv(r\"D:\\Machine Learning\\Cloned File\\Thyroid-Diseases-Detection\\archive\\Thyroid_Diff.csv\")"
   ]
  },
  {
   "cell_type": "code",
   "execution_count": 49,
   "id": "f2070cf7",
   "metadata": {},
   "outputs": [
    {
     "data": {
      "text/html": [
       "<div>\n",
       "<style scoped>\n",
       "    .dataframe tbody tr th:only-of-type {\n",
       "        vertical-align: middle;\n",
       "    }\n",
       "\n",
       "    .dataframe tbody tr th {\n",
       "        vertical-align: top;\n",
       "    }\n",
       "\n",
       "    .dataframe thead th {\n",
       "        text-align: right;\n",
       "    }\n",
       "</style>\n",
       "<table border=\"1\" class=\"dataframe\">\n",
       "  <thead>\n",
       "    <tr style=\"text-align: right;\">\n",
       "      <th></th>\n",
       "      <th>Age</th>\n",
       "      <th>Gender</th>\n",
       "      <th>Smoking</th>\n",
       "      <th>Hx Smoking</th>\n",
       "      <th>Hx Radiothreapy</th>\n",
       "      <th>Thyroid Function</th>\n",
       "      <th>Physical Examination</th>\n",
       "      <th>Adenopathy</th>\n",
       "      <th>Pathology</th>\n",
       "      <th>Focality</th>\n",
       "      <th>Risk</th>\n",
       "      <th>T</th>\n",
       "      <th>N</th>\n",
       "      <th>M</th>\n",
       "      <th>Stage</th>\n",
       "      <th>Response</th>\n",
       "      <th>Recurred</th>\n",
       "    </tr>\n",
       "  </thead>\n",
       "  <tbody>\n",
       "    <tr>\n",
       "      <th>0</th>\n",
       "      <td>27</td>\n",
       "      <td>F</td>\n",
       "      <td>No</td>\n",
       "      <td>No</td>\n",
       "      <td>No</td>\n",
       "      <td>Euthyroid</td>\n",
       "      <td>Single nodular goiter-left</td>\n",
       "      <td>No</td>\n",
       "      <td>Micropapillary</td>\n",
       "      <td>Uni-Focal</td>\n",
       "      <td>Low</td>\n",
       "      <td>T1a</td>\n",
       "      <td>N0</td>\n",
       "      <td>M0</td>\n",
       "      <td>I</td>\n",
       "      <td>Indeterminate</td>\n",
       "      <td>No</td>\n",
       "    </tr>\n",
       "    <tr>\n",
       "      <th>1</th>\n",
       "      <td>34</td>\n",
       "      <td>F</td>\n",
       "      <td>No</td>\n",
       "      <td>Yes</td>\n",
       "      <td>No</td>\n",
       "      <td>Euthyroid</td>\n",
       "      <td>Multinodular goiter</td>\n",
       "      <td>No</td>\n",
       "      <td>Micropapillary</td>\n",
       "      <td>Uni-Focal</td>\n",
       "      <td>Low</td>\n",
       "      <td>T1a</td>\n",
       "      <td>N0</td>\n",
       "      <td>M0</td>\n",
       "      <td>I</td>\n",
       "      <td>Excellent</td>\n",
       "      <td>No</td>\n",
       "    </tr>\n",
       "    <tr>\n",
       "      <th>2</th>\n",
       "      <td>30</td>\n",
       "      <td>F</td>\n",
       "      <td>No</td>\n",
       "      <td>No</td>\n",
       "      <td>No</td>\n",
       "      <td>Euthyroid</td>\n",
       "      <td>Single nodular goiter-right</td>\n",
       "      <td>No</td>\n",
       "      <td>Micropapillary</td>\n",
       "      <td>Uni-Focal</td>\n",
       "      <td>Low</td>\n",
       "      <td>T1a</td>\n",
       "      <td>N0</td>\n",
       "      <td>M0</td>\n",
       "      <td>I</td>\n",
       "      <td>Excellent</td>\n",
       "      <td>No</td>\n",
       "    </tr>\n",
       "    <tr>\n",
       "      <th>3</th>\n",
       "      <td>62</td>\n",
       "      <td>F</td>\n",
       "      <td>No</td>\n",
       "      <td>No</td>\n",
       "      <td>No</td>\n",
       "      <td>Euthyroid</td>\n",
       "      <td>Single nodular goiter-right</td>\n",
       "      <td>No</td>\n",
       "      <td>Micropapillary</td>\n",
       "      <td>Uni-Focal</td>\n",
       "      <td>Low</td>\n",
       "      <td>T1a</td>\n",
       "      <td>N0</td>\n",
       "      <td>M0</td>\n",
       "      <td>I</td>\n",
       "      <td>Excellent</td>\n",
       "      <td>No</td>\n",
       "    </tr>\n",
       "    <tr>\n",
       "      <th>4</th>\n",
       "      <td>62</td>\n",
       "      <td>F</td>\n",
       "      <td>No</td>\n",
       "      <td>No</td>\n",
       "      <td>No</td>\n",
       "      <td>Euthyroid</td>\n",
       "      <td>Multinodular goiter</td>\n",
       "      <td>No</td>\n",
       "      <td>Micropapillary</td>\n",
       "      <td>Multi-Focal</td>\n",
       "      <td>Low</td>\n",
       "      <td>T1a</td>\n",
       "      <td>N0</td>\n",
       "      <td>M0</td>\n",
       "      <td>I</td>\n",
       "      <td>Excellent</td>\n",
       "      <td>No</td>\n",
       "    </tr>\n",
       "  </tbody>\n",
       "</table>\n",
       "</div>"
      ],
      "text/plain": [
       "   Age Gender Smoking Hx Smoking Hx Radiothreapy Thyroid Function  \\\n",
       "0   27      F      No         No              No        Euthyroid   \n",
       "1   34      F      No        Yes              No        Euthyroid   \n",
       "2   30      F      No         No              No        Euthyroid   \n",
       "3   62      F      No         No              No        Euthyroid   \n",
       "4   62      F      No         No              No        Euthyroid   \n",
       "\n",
       "          Physical Examination Adenopathy       Pathology     Focality Risk  \\\n",
       "0   Single nodular goiter-left         No  Micropapillary    Uni-Focal  Low   \n",
       "1          Multinodular goiter         No  Micropapillary    Uni-Focal  Low   \n",
       "2  Single nodular goiter-right         No  Micropapillary    Uni-Focal  Low   \n",
       "3  Single nodular goiter-right         No  Micropapillary    Uni-Focal  Low   \n",
       "4          Multinodular goiter         No  Micropapillary  Multi-Focal  Low   \n",
       "\n",
       "     T   N   M Stage       Response Recurred  \n",
       "0  T1a  N0  M0     I  Indeterminate       No  \n",
       "1  T1a  N0  M0     I      Excellent       No  \n",
       "2  T1a  N0  M0     I      Excellent       No  \n",
       "3  T1a  N0  M0     I      Excellent       No  \n",
       "4  T1a  N0  M0     I      Excellent       No  "
      ]
     },
     "execution_count": 49,
     "metadata": {},
     "output_type": "execute_result"
    }
   ],
   "source": [
    "th.head()"
   ]
  },
  {
   "cell_type": "markdown",
   "id": "e14152a2",
   "metadata": {},
   "source": [
    "## Variable Identification"
   ]
  },
  {
   "cell_type": "code",
   "execution_count": 50,
   "id": "679171dd",
   "metadata": {},
   "outputs": [
    {
     "name": "stdout",
     "output_type": "stream",
     "text": [
      "Dataset shape: (383, 17)\n"
     ]
    }
   ],
   "source": [
    "print(\"Dataset shape:\", th.shape)\n"
   ]
  },
  {
   "cell_type": "code",
   "execution_count": 51,
   "id": "bfaf6beb",
   "metadata": {},
   "outputs": [
    {
     "data": {
      "text/plain": [
       "Age                      int64\n",
       "Gender                  object\n",
       "Smoking                 object\n",
       "Hx Smoking              object\n",
       "Hx Radiothreapy         object\n",
       "Thyroid Function        object\n",
       "Physical Examination    object\n",
       "Adenopathy              object\n",
       "Pathology               object\n",
       "Focality                object\n",
       "Risk                    object\n",
       "T                       object\n",
       "N                       object\n",
       "M                       object\n",
       "Stage                   object\n",
       "Response                object\n",
       "Recurred                object\n",
       "dtype: object"
      ]
     },
     "execution_count": 51,
     "metadata": {},
     "output_type": "execute_result"
    }
   ],
   "source": [
    "th.dtypes"
   ]
  },
  {
   "cell_type": "code",
   "execution_count": 52,
   "id": "598171a0",
   "metadata": {},
   "outputs": [
    {
     "name": "stdout",
     "output_type": "stream",
     "text": [
      "<class 'pandas.core.frame.DataFrame'>\n",
      "RangeIndex: 383 entries, 0 to 382\n",
      "Data columns (total 17 columns):\n",
      " #   Column                Non-Null Count  Dtype \n",
      "---  ------                --------------  ----- \n",
      " 0   Age                   383 non-null    int64 \n",
      " 1   Gender                383 non-null    object\n",
      " 2   Smoking               383 non-null    object\n",
      " 3   Hx Smoking            383 non-null    object\n",
      " 4   Hx Radiothreapy       383 non-null    object\n",
      " 5   Thyroid Function      383 non-null    object\n",
      " 6   Physical Examination  383 non-null    object\n",
      " 7   Adenopathy            383 non-null    object\n",
      " 8   Pathology             383 non-null    object\n",
      " 9   Focality              383 non-null    object\n",
      " 10  Risk                  383 non-null    object\n",
      " 11  T                     383 non-null    object\n",
      " 12  N                     383 non-null    object\n",
      " 13  M                     383 non-null    object\n",
      " 14  Stage                 383 non-null    object\n",
      " 15  Response              383 non-null    object\n",
      " 16  Recurred              383 non-null    object\n",
      "dtypes: int64(1), object(16)\n",
      "memory usage: 51.0+ KB\n"
     ]
    }
   ],
   "source": [
    "th.info()"
   ]
  },
  {
   "cell_type": "markdown",
   "id": "2072254a",
   "metadata": {},
   "source": [
    "## Missing value Anlysis"
   ]
  },
  {
   "cell_type": "code",
   "execution_count": 53,
   "id": "50cdb8aa",
   "metadata": {},
   "outputs": [
    {
     "name": "stdout",
     "output_type": "stream",
     "text": [
      "Age                     0\n",
      "Gender                  0\n",
      "Smoking                 0\n",
      "Hx Smoking              0\n",
      "Hx Radiothreapy         0\n",
      "Thyroid Function        0\n",
      "Physical Examination    0\n",
      "Adenopathy              0\n",
      "Pathology               0\n",
      "Focality                0\n",
      "Risk                    0\n",
      "T                       0\n",
      "N                       0\n",
      "M                       0\n",
      "Stage                   0\n",
      "Response                0\n",
      "Recurred                0\n",
      "dtype: int64\n"
     ]
    }
   ],
   "source": [
    "print(th.isnull().sum())"
   ]
  },
  {
   "cell_type": "markdown",
   "id": "3e855b0a",
   "metadata": {},
   "source": [
    "## Graph"
   ]
  },
  {
   "cell_type": "markdown",
   "id": "db5375ba",
   "metadata": {},
   "source": [
    "\n",
    "The **Gender Distribution Count Plot** shows that the majority of patients in the dataset are female, reflecting the higher prevalence of thyroid disease in women.\n",
    "The **Recurrence Rate by Gender (%)** graph reveals that although fewer males are present, their cancer recurrence rate is significantly higher compared to females.\n",
    "\n"
   ]
  },
  {
   "cell_type": "code",
   "execution_count": 54,
   "id": "b0dd5591",
   "metadata": {},
   "outputs": [
    {
     "data": {
      "image/png": "[encoded data removed]",
      "text/plain": [
       "<Figure size 640x480 with 1 Axes>"
      ]
     },
     "metadata": {},
     "output_type": "display_data"
    }
   ],
   "source": [
    "#Gender Distribution Count Plot\n",
    "\n",
    "sns.countplot(data=th, x='Gender')\n",
    "plt.title('Gender Distribution of Thyroid Patients')\n",
    "plt.xlabel('Gender')\n",
    "plt.ylabel('Count')\n",
    "plt.show()"
   ]
  },
  {
   "cell_type": "code",
   "execution_count": 55,
   "id": "e37cbefe",
   "metadata": {},
   "outputs": [
    {
     "name": "stdout",
     "output_type": "stream",
     "text": [
      "Recurred         No        Yes\n",
      "Gender                        \n",
      "F         78.846154  21.153846\n",
      "M         40.845070  59.154930\n"
     ]
    },
    {
     "data": {
      "image/png": "[encoded data removed]",
      "text/plain": [
       "<Figure size 640x480 with 1 Axes>"
      ]
     },
     "metadata": {},
     "output_type": "display_data"
    }
   ],
   "source": [
    "# Recurrence Rate by Gender (in %)\n",
    "recurrence_by_gender = th.groupby('Gender')['Recurred'].value_counts(normalize=True).unstack() * 100\n",
    "print(recurrence_by_gender)\n",
    "recurrence_by_gender.plot(kind='bar', stacked=True, colormap='coolwarm')\n",
    "plt.title('Recurrence Rate by Gender (%)')\n",
    "plt.ylabel('Percentage')\n",
    "plt.legend(title='Recurred')\n",
    "plt.show()"
   ]
  },
  {
   "cell_type": "markdown",
   "id": "a7c4fc10",
   "metadata": {},
   "source": [
    "## Outlier Analysis"
   ]
  },
  {
   "cell_type": "code",
   "execution_count": 56,
   "id": "f8d7e6a9",
   "metadata": {},
   "outputs": [
    {
     "name": "stdout",
     "output_type": "stream",
     "text": [
      "Numerical columns: ['Age']\n"
     ]
    },
    {
     "data": {
      "image/png": "[encoded data removed]",
      "text/plain": [
       "<Figure size 600x400 with 1 Axes>"
      ]
     },
     "metadata": {},
     "output_type": "display_data"
    },
    {
     "name": "stdout",
     "output_type": "stream",
     "text": [
      "Age: 0 outliers\n",
      "Outlier capping completed and file saved.\n"
     ]
    }
   ],
   "source": [
    "# identification numerical columns\n",
    "numerical_cols = th.select_dtypes(include=['int64', 'float64']).columns.tolist()\n",
    "print(\"Numerical columns:\", numerical_cols)\n",
    "\n",
    "# Boxplots to visualize outliers\n",
    "for col in numerical_cols:\n",
    "    plt.figure(figsize=(6, 4))\n",
    "    sns.boxplot(x=th[col])\n",
    "    plt.title(f'Boxplot for {col}')\n",
    "    plt.show()\n",
    "    \n",
    "# outliers using IQR method\n",
    "def detect_outliers_iqr(data, col):\n",
    "    Q1 = data[col].quantile(0.25)\n",
    "    Q3 = data[col].quantile(0.75)\n",
    "    IQR = Q3 - Q1\n",
    "    lower_bound = Q1 - 1.5 * IQR\n",
    "    upper_bound = Q3 + 1.5 * IQR\n",
    "    outliers = data[(data[col] < lower_bound) | (data[col] > upper_bound)]\n",
    "    print(f\"{col}: {len(outliers)} outliers\")\n",
    "    return outliers\n",
    "\n",
    "for col in numerical_cols:\n",
    "    detect_outliers_iqr(th, col)\n",
    "\n",
    "# Capping outliers \n",
    "def cap_outliers(data, col):\n",
    "    Q1 = data[col].quantile(0.25)\n",
    "    Q3 = data[col].quantile(0.75)\n",
    "    IQR = Q3 - Q1\n",
    "    lower_bound = Q1 - 1.5 * IQR\n",
    "    upper_bound = Q3 + 1.5 * IQR\n",
    "    data[col] = np.where(data[col] > upper_bound, upper_bound,\n",
    "                 np.where(data[col] < lower_bound, lower_bound, data[col]))\n",
    "    return data\n",
    "\n",
    "for col in numerical_cols:\n",
    "    th = cap_outliers(th, col)\n",
    "\n",
    "# Save the cleaned dataset\n",
    "th.to_csv('thyroid_cleaned.csv', index=False)\n",
    "print(\"Outlier capping completed and file saved.\")\n",
    "\n"
   ]
  },
  {
   "cell_type": "markdown",
   "id": "ab53be8f",
   "metadata": {},
   "source": [
    "## Data Handling"
   ]
  },
  {
   "cell_type": "markdown",
   "id": "82c44a3e",
   "metadata": {},
   "source": [
    "#### Binary Encoding\n",
    "Binary categorical columns like Gender, Smoking, Hx Smoking, Hx Radiothreapy, Adenopathy, Recurred."
   ]
  },
  {
   "cell_type": "code",
   "execution_count": 57,
   "id": "db93ac05",
   "metadata": {},
   "outputs": [],
   "source": [
    "binary_map = {'No': 0, 'Yes': 1, 'F': 0, 'M': 1}\n",
    "\n",
    "binary_cols = ['Gender', 'Smoking', 'Hx Smoking', 'Hx Radiothreapy', 'Adenopathy', 'Recurred']\n",
    "\n",
    "for col in binary_cols:\n",
    "    th[col] = th[col].map(binary_map)\n"
   ]
  },
  {
   "cell_type": "markdown",
   "id": "7b1590c8",
   "metadata": {},
   "source": [
    "#### Ordinal Encoding\t\n",
    "Ordinal columns like Risk {Low:1, Medium:2, High:3}\t and Focality {'Uni-Focal': 1, 'Multi-Focal': 2}"
   ]
  },
  {
   "cell_type": "code",
   "execution_count": 58,
   "id": "adfd0a90",
   "metadata": {},
   "outputs": [],
   "source": [
    "risk_map = {'Low': 1, 'Medium': 2, 'High': 3}\n",
    "focality_map = {'Uni-Focal': 1, 'Multi-Focal': 2}\n",
    "\n",
    "th['Risk'] = th['Risk'].map(risk_map)\n",
    "th['Focality'] = th['Focality'].map(focality_map)\n"
   ]
  },
  {
   "cell_type": "markdown",
   "id": "c25064d5",
   "metadata": {},
   "source": [
    "#### One-Hot Encoding"
   ]
  },
  {
   "cell_type": "code",
   "execution_count": 59,
   "id": "8779ee5e",
   "metadata": {},
   "outputs": [],
   "source": [
    "nominal_cols = ['Thyroid Function', 'Physical Examination', 'Pathology', 'Response', 'T', 'N', 'M', 'Stage']\n",
    "\n",
    "th = pd.get_dummies(th, columns=nominal_cols, drop_first=True)\n",
    "\n"
   ]
  },
  {
   "cell_type": "code",
   "execution_count": 60,
   "id": "5a90871e",
   "metadata": {},
   "outputs": [
    {
     "data": {
      "text/html": [
       "<div>\n",
       "<style scoped>\n",
       "    .dataframe tbody tr th:only-of-type {\n",
       "        vertical-align: middle;\n",
       "    }\n",
       "\n",
       "    .dataframe tbody tr th {\n",
       "        vertical-align: top;\n",
       "    }\n",
       "\n",
       "    .dataframe thead th {\n",
       "        text-align: right;\n",
       "    }\n",
       "</style>\n",
       "<table border=\"1\" class=\"dataframe\">\n",
       "  <thead>\n",
       "    <tr style=\"text-align: right;\">\n",
       "      <th></th>\n",
       "      <th>Age</th>\n",
       "      <th>Gender</th>\n",
       "      <th>Smoking</th>\n",
       "      <th>Hx Smoking</th>\n",
       "      <th>Hx Radiothreapy</th>\n",
       "      <th>Adenopathy</th>\n",
       "      <th>Focality</th>\n",
       "      <th>Risk</th>\n",
       "      <th>Recurred</th>\n",
       "      <th>Thyroid Function_Clinical Hypothyroidism</th>\n",
       "      <th>...</th>\n",
       "      <th>T_T3b</th>\n",
       "      <th>T_T4a</th>\n",
       "      <th>T_T4b</th>\n",
       "      <th>N_N1a</th>\n",
       "      <th>N_N1b</th>\n",
       "      <th>M_M1</th>\n",
       "      <th>Stage_II</th>\n",
       "      <th>Stage_III</th>\n",
       "      <th>Stage_IVA</th>\n",
       "      <th>Stage_IVB</th>\n",
       "    </tr>\n",
       "  </thead>\n",
       "  <tbody>\n",
       "    <tr>\n",
       "      <th>0</th>\n",
       "      <td>27.0</td>\n",
       "      <td>0</td>\n",
       "      <td>0</td>\n",
       "      <td>0</td>\n",
       "      <td>0</td>\n",
       "      <td>0.0</td>\n",
       "      <td>1</td>\n",
       "      <td>1.0</td>\n",
       "      <td>0</td>\n",
       "      <td>False</td>\n",
       "      <td>...</td>\n",
       "      <td>False</td>\n",
       "      <td>False</td>\n",
       "      <td>False</td>\n",
       "      <td>False</td>\n",
       "      <td>False</td>\n",
       "      <td>False</td>\n",
       "      <td>False</td>\n",
       "      <td>False</td>\n",
       "      <td>False</td>\n",
       "      <td>False</td>\n",
       "    </tr>\n",
       "    <tr>\n",
       "      <th>1</th>\n",
       "      <td>34.0</td>\n",
       "      <td>0</td>\n",
       "      <td>0</td>\n",
       "      <td>1</td>\n",
       "      <td>0</td>\n",
       "      <td>0.0</td>\n",
       "      <td>1</td>\n",
       "      <td>1.0</td>\n",
       "      <td>0</td>\n",
       "      <td>False</td>\n",
       "      <td>...</td>\n",
       "      <td>False</td>\n",
       "      <td>False</td>\n",
       "      <td>False</td>\n",
       "      <td>False</td>\n",
       "      <td>False</td>\n",
       "      <td>False</td>\n",
       "      <td>False</td>\n",
       "      <td>False</td>\n",
       "      <td>False</td>\n",
       "      <td>False</td>\n",
       "    </tr>\n",
       "    <tr>\n",
       "      <th>2</th>\n",
       "      <td>30.0</td>\n",
       "      <td>0</td>\n",
       "      <td>0</td>\n",
       "      <td>0</td>\n",
       "      <td>0</td>\n",
       "      <td>0.0</td>\n",
       "      <td>1</td>\n",
       "      <td>1.0</td>\n",
       "      <td>0</td>\n",
       "      <td>False</td>\n",
       "      <td>...</td>\n",
       "      <td>False</td>\n",
       "      <td>False</td>\n",
       "      <td>False</td>\n",
       "      <td>False</td>\n",
       "      <td>False</td>\n",
       "      <td>False</td>\n",
       "      <td>False</td>\n",
       "      <td>False</td>\n",
       "      <td>False</td>\n",
       "      <td>False</td>\n",
       "    </tr>\n",
       "    <tr>\n",
       "      <th>3</th>\n",
       "      <td>62.0</td>\n",
       "      <td>0</td>\n",
       "      <td>0</td>\n",
       "      <td>0</td>\n",
       "      <td>0</td>\n",
       "      <td>0.0</td>\n",
       "      <td>1</td>\n",
       "      <td>1.0</td>\n",
       "      <td>0</td>\n",
       "      <td>False</td>\n",
       "      <td>...</td>\n",
       "      <td>False</td>\n",
       "      <td>False</td>\n",
       "      <td>False</td>\n",
       "      <td>False</td>\n",
       "      <td>False</td>\n",
       "      <td>False</td>\n",
       "      <td>False</td>\n",
       "      <td>False</td>\n",
       "      <td>False</td>\n",
       "      <td>False</td>\n",
       "    </tr>\n",
       "    <tr>\n",
       "      <th>4</th>\n",
       "      <td>62.0</td>\n",
       "      <td>0</td>\n",
       "      <td>0</td>\n",
       "      <td>0</td>\n",
       "      <td>0</td>\n",
       "      <td>0.0</td>\n",
       "      <td>2</td>\n",
       "      <td>1.0</td>\n",
       "      <td>0</td>\n",
       "      <td>False</td>\n",
       "      <td>...</td>\n",
       "      <td>False</td>\n",
       "      <td>False</td>\n",
       "      <td>False</td>\n",
       "      <td>False</td>\n",
       "      <td>False</td>\n",
       "      <td>False</td>\n",
       "      <td>False</td>\n",
       "      <td>False</td>\n",
       "      <td>False</td>\n",
       "      <td>False</td>\n",
       "    </tr>\n",
       "  </tbody>\n",
       "</table>\n",
       "<p>5 rows × 36 columns</p>\n",
       "</div>"
      ],
      "text/plain": [
       "    Age  Gender  Smoking  Hx Smoking  Hx Radiothreapy  Adenopathy  Focality  \\\n",
       "0  27.0       0        0           0                0         0.0         1   \n",
       "1  34.0       0        0           1                0         0.0         1   \n",
       "2  30.0       0        0           0                0         0.0         1   \n",
       "3  62.0       0        0           0                0         0.0         1   \n",
       "4  62.0       0        0           0                0         0.0         2   \n",
       "\n",
       "   Risk  Recurred  Thyroid Function_Clinical Hypothyroidism  ...  T_T3b  \\\n",
       "0   1.0         0                                     False  ...  False   \n",
       "1   1.0         0                                     False  ...  False   \n",
       "2   1.0         0                                     False  ...  False   \n",
       "3   1.0         0                                     False  ...  False   \n",
       "4   1.0         0                                     False  ...  False   \n",
       "\n",
       "   T_T4a  T_T4b  N_N1a  N_N1b   M_M1  Stage_II  Stage_III  Stage_IVA  \\\n",
       "0  False  False  False  False  False     False      False      False   \n",
       "1  False  False  False  False  False     False      False      False   \n",
       "2  False  False  False  False  False     False      False      False   \n",
       "3  False  False  False  False  False     False      False      False   \n",
       "4  False  False  False  False  False     False      False      False   \n",
       "\n",
       "   Stage_IVB  \n",
       "0      False  \n",
       "1      False  \n",
       "2      False  \n",
       "3      False  \n",
       "4      False  \n",
       "\n",
       "[5 rows x 36 columns]"
      ]
     },
     "execution_count": 60,
     "metadata": {},
     "output_type": "execute_result"
    }
   ],
   "source": [
    "th.head()"
   ]
  }
 ],
 "metadata": {
  "kernelspec": {
   "display_name": "Python 3",
   "language": "python",
   "name": "python3"
  },
  "language_info": {
   "codemirror_mode": {
    "name": "ipython",
    "version": 3
   },
   "file_extension": ".py",
   "mimetype": "text/x-python",
   "name": "python",
   "nbconvert_exporter": "python",
   "pygments_lexer": "ipython3",
   "version": "3.13.4"
  }
 },
 "nbformat": 4,
 "nbformat_minor": 5
}
